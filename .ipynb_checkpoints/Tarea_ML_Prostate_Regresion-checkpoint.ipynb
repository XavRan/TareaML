{
 "cells": [
  {
   "cell_type": "markdown",
   "metadata": {
    "id": "vKByGjc6lWzx"
   },
   "source": [
    "# ML. Ejemplo Modelo Lineal y Regularización"
   ]
  },
  {
   "cell_type": "markdown",
   "metadata": {
    "id": "iXz7QHlc-5bt"
   },
   "source": [
    "Los datos de este ejercicio provienen de un estudio realizado por Stamey et al. (1989) y es presentado en el capítulo 3 del libro guía \"The Elements of Statistical Learning\". Stamey et alexaminaron la correlación entre el nivel de antígeno prostático específico (lpsa) y varias medidas clínicas en hombres que estaban a punto de someterse a una prostatectomía radical. Las variables son: volumen de cáncer logarítmico (lcavol), peso prostático logarítmico (lweight), edad, logaritmo de la cantidad de hiperplasia prostática benigna (lbph), invasión de vesículas seminales (svi), logaritmo de la penetración capsular (lcp), puntuación de Gleason (gleason) y porcentaje de puntuaciones de Gleason de 4 o 5 (pgg45).\n",
    "\n",
    "\n"
   ]
  },
  {
   "cell_type": "markdown",
   "metadata": {
    "id": "_Nouutks-7SN"
   },
   "source": [
    "*Debe formar equipos de entre 2 y 4 personas para abordar las siguientes preguntas de modo consensuado. Designar un secretario que entrega el código y un vocero que expone en caso de ser interpelado.*"
   ]
  },
  {
   "cell_type": "markdown",
   "metadata": {
    "id": "5bxl9FhD9NrT"
   },
   "source": [
    "\n",
    "\n",
    "1.   ¿Es posible aprender a predecir satisfactoriamente la respuesta (lpsa) en función de los predictores disponibles?\n",
    "2.   Si asumimos que el modelo lineal es correcto, ¿Qué variables están más relacionadas con la variable respuesta (lpsa)?\n",
    "\n"
   ]
  },
  {
   "cell_type": "markdown",
   "metadata": {
    "id": "9HaNeIyjlcrT"
   },
   "source": [
    "<table align='left'>\n",
    "<tr>\n",
    "<td><img src='https://assets.roche.com/f/173873/1920x1440/a7d6ecfcda/oncologie-cancer-prostate.jpg/m/768x0/filters:format(webp):quality(90)/' width='650'/>\n",
    "</tr>\n",
    "</table>\n"
   ]
  },
  {
   "cell_type": "markdown",
   "metadata": {
    "id": "NkYg4aEdmrOU"
   },
   "source": [
    "# Basic Imports"
   ]
  },
  {
   "cell_type": "code",
   "execution_count": 1,
   "metadata": {
    "id": "g9Whsr0lmstH"
   },
   "outputs": [],
   "source": [
    "import pandas as pd\n",
    "import numpy as np\n",
    "import seaborn as sns; sns.set()\n",
    "import matplotlib.pyplot as plt\n",
    "from sklearn.utils import shuffle\n",
    "\n",
    "\n",
    "import warnings; warnings.filterwarnings(\"ignore\")\n",
    "plt.rcParams.update({'font.size': 8})\n",
    "plt.rc('xtick',labelsize=8)\n",
    "plt.rc('ytick',labelsize=8)\n",
    "plt.rc('axes', labelsize=8)\n",
    "plt.rc('legend',fontsize=10)\n",
    "plt.rc('axes',titlesize=10)\n"
   ]
  },
  {
   "cell_type": "markdown",
   "metadata": {
    "id": "CsMol44HmwtF"
   },
   "source": [
    "# Data"
   ]
  },
  {
   "cell_type": "code",
   "execution_count": 2,
   "metadata": {
    "colab": {
     "base_uri": "https://localhost:8080/"
    },
    "id": "S3UkolWck9Dn",
    "outputId": "961396d5-0f4f-4bca-95a8-573653d52a88"
   },
   "outputs": [
    {
     "name": "stdout",
     "output_type": "stream",
     "text": [
      "URL transformed to HTTPS due to an HSTS policy\n",
      "--2024-09-25 20:20:19--  https://www.inf.utfsm.cl/~jnancu/ProstateCancer.csv\n",
      "Loaded CA certificate '/etc/ssl/certs/ca-certificates.crt'\n",
      "Resolving www.inf.utfsm.cl (www.inf.utfsm.cl)... 2800:270:c::11, 200.1.19.11\n",
      "Connecting to www.inf.utfsm.cl (www.inf.utfsm.cl)|2800:270:c::11|:443... connected.\n",
      "HTTP request sent, awaiting response... 200 OK\n",
      "Length: 7129 (7.0K) [application/octet-stream]\n",
      "Saving to: ‘ProstateCancer.csv.8’\n",
      "\n",
      "ProstateCancer.csv. 100%[===================>]   6.96K  --.-KB/s    in 0s      \n",
      "\n",
      "2024-09-25 20:20:19 (172 MB/s) - ‘ProstateCancer.csv.8’ saved [7129/7129]\n",
      "\n"
     ]
    }
   ],
   "source": [
    "!wget http://www.inf.utfsm.cl/~jnancu/ProstateCancer.csv"
   ]
  },
  {
   "cell_type": "code",
   "execution_count": 3,
   "metadata": {
    "id": "6iqQhndLmphu"
   },
   "outputs": [],
   "source": [
    "data = pd.read_table('ProstateCancer.csv', sep='\\s+')"
   ]
  },
  {
   "cell_type": "code",
   "execution_count": 4,
   "metadata": {
    "colab": {
     "base_uri": "https://localhost:8080/",
     "height": 206
    },
    "id": "iKh6XEbIm2t9",
    "outputId": "7c0576bf-9142-4c1e-b889-bca12598f42c"
   },
   "outputs": [
    {
     "data": {
      "text/html": [
       "<div>\n",
       "<style scoped>\n",
       "    .dataframe tbody tr th:only-of-type {\n",
       "        vertical-align: middle;\n",
       "    }\n",
       "\n",
       "    .dataframe tbody tr th {\n",
       "        vertical-align: top;\n",
       "    }\n",
       "\n",
       "    .dataframe thead th {\n",
       "        text-align: right;\n",
       "    }\n",
       "</style>\n",
       "<table border=\"1\" class=\"dataframe\">\n",
       "  <thead>\n",
       "    <tr style=\"text-align: right;\">\n",
       "      <th></th>\n",
       "      <th>lcavol</th>\n",
       "      <th>lweight</th>\n",
       "      <th>age</th>\n",
       "      <th>lbph</th>\n",
       "      <th>svi</th>\n",
       "      <th>lcp</th>\n",
       "      <th>gleason</th>\n",
       "      <th>pgg45</th>\n",
       "      <th>lpsa</th>\n",
       "      <th>train</th>\n",
       "    </tr>\n",
       "  </thead>\n",
       "  <tbody>\n",
       "    <tr>\n",
       "      <th>1</th>\n",
       "      <td>-0.579818</td>\n",
       "      <td>2.769459</td>\n",
       "      <td>50</td>\n",
       "      <td>-1.386294</td>\n",
       "      <td>0</td>\n",
       "      <td>-1.386294</td>\n",
       "      <td>6</td>\n",
       "      <td>0</td>\n",
       "      <td>-0.430783</td>\n",
       "      <td>T</td>\n",
       "    </tr>\n",
       "    <tr>\n",
       "      <th>2</th>\n",
       "      <td>-0.994252</td>\n",
       "      <td>3.319626</td>\n",
       "      <td>58</td>\n",
       "      <td>-1.386294</td>\n",
       "      <td>0</td>\n",
       "      <td>-1.386294</td>\n",
       "      <td>6</td>\n",
       "      <td>0</td>\n",
       "      <td>-0.162519</td>\n",
       "      <td>T</td>\n",
       "    </tr>\n",
       "    <tr>\n",
       "      <th>3</th>\n",
       "      <td>-0.510826</td>\n",
       "      <td>2.691243</td>\n",
       "      <td>74</td>\n",
       "      <td>-1.386294</td>\n",
       "      <td>0</td>\n",
       "      <td>-1.386294</td>\n",
       "      <td>7</td>\n",
       "      <td>20</td>\n",
       "      <td>-0.162519</td>\n",
       "      <td>T</td>\n",
       "    </tr>\n",
       "    <tr>\n",
       "      <th>4</th>\n",
       "      <td>-1.203973</td>\n",
       "      <td>3.282789</td>\n",
       "      <td>58</td>\n",
       "      <td>-1.386294</td>\n",
       "      <td>0</td>\n",
       "      <td>-1.386294</td>\n",
       "      <td>6</td>\n",
       "      <td>0</td>\n",
       "      <td>-0.162519</td>\n",
       "      <td>T</td>\n",
       "    </tr>\n",
       "    <tr>\n",
       "      <th>5</th>\n",
       "      <td>0.751416</td>\n",
       "      <td>3.432373</td>\n",
       "      <td>62</td>\n",
       "      <td>-1.386294</td>\n",
       "      <td>0</td>\n",
       "      <td>-1.386294</td>\n",
       "      <td>6</td>\n",
       "      <td>0</td>\n",
       "      <td>0.371564</td>\n",
       "      <td>T</td>\n",
       "    </tr>\n",
       "  </tbody>\n",
       "</table>\n",
       "</div>"
      ],
      "text/plain": [
       "     lcavol   lweight  age      lbph  svi       lcp  gleason  pgg45      lpsa  \\\n",
       "1 -0.579818  2.769459   50 -1.386294    0 -1.386294        6      0 -0.430783   \n",
       "2 -0.994252  3.319626   58 -1.386294    0 -1.386294        6      0 -0.162519   \n",
       "3 -0.510826  2.691243   74 -1.386294    0 -1.386294        7     20 -0.162519   \n",
       "4 -1.203973  3.282789   58 -1.386294    0 -1.386294        6      0 -0.162519   \n",
       "5  0.751416  3.432373   62 -1.386294    0 -1.386294        6      0  0.371564   \n",
       "\n",
       "  train  \n",
       "1     T  \n",
       "2     T  \n",
       "3     T  \n",
       "4     T  \n",
       "5     T  "
      ]
     },
     "execution_count": 4,
     "metadata": {},
     "output_type": "execute_result"
    }
   ],
   "source": [
    "data.head(5)"
   ]
  },
  {
   "cell_type": "markdown",
   "metadata": {
    "id": "0Q_Ro6VUlbgm"
   },
   "source": [
    "Variables:\n",
    "\n",
    "- **lcavol**: Logaritmo del volumen de material canceroso, medido en mililitros (cc). Este volumen se estimó a partir de imágenes digitalizadas haciendo calculando el área ocupada y multiplicando por un grosor estándar para obtener un volumen.\n",
    "- **lweight**: Logaritmo del peso de la próstata, medido en gramos.\n",
    "- **age**: La edad del paciente, en años.\n",
    "- **lbph**: Logaritmo de la cantidad de hiperplasia prostática benigna (BPH), un agrandamiento no canceroso de la glándula prostática, como un área en una imagen digitalizada y reportada en cm².\n",
    "- **svi**: Invasión de las vesículas seminales, un indicador binario que indica si las células cancerosas de la próstata han invadido la vesícula seminal (1) o no (0).\n",
    "- **lcp**: Logaritmo de la penetración capsular, que representa el nivel de extensión del cáncer en la cápsula (el tejido fibroso que actúa como revestimiento externo de la glándula prostática), medido como la extensión lineal de la penetración, en cm.\n",
    "- **gleason**: Puntaje de Gleason, una medida del grado de agresividad del tumor. El sistema de clasificación de Gleason asigna una calificación (1–5) a cada una de las dos áreas más grandes de cáncer en las muestras de tejido, donde 1 es el menos agresivo y 5 el más agresivo; las dos calificaciones se suman para producir el puntaje de Gleason.\n",
    "- **pgg45**: Porcentaje de puntuaciones de Gleason que son 4 o 5.\n",
    "- **lpsa**: Logaritmo del antígeno prostático específico (PSA), una concentración medida en ng/mL."
   ]
  },
  {
   "cell_type": "markdown",
   "metadata": {
    "id": "3HHM06IivSh9"
   },
   "source": [
    "# Basic Exploratory"
   ]
  },
  {
   "cell_type": "code",
   "execution_count": 5,
   "metadata": {
    "id": "WPTTOUDBhITS"
   },
   "outputs": [],
   "source": [
    "X_train = data.loc[data['train'] == 'T']\n",
    "Y_train = data['lpsa']"
   ]
  },
  {
   "cell_type": "code",
   "execution_count": 6,
   "metadata": {
    "colab": {
     "base_uri": "https://localhost:8080/",
     "height": 300
    },
    "id": "ydhsfCfiwCVr",
    "outputId": "84cf95d2-4f63-4fdf-ef92-b59ed98d5ead"
   },
   "outputs": [
    {
     "data": {
      "text/html": [
       "<div>\n",
       "<style scoped>\n",
       "    .dataframe tbody tr th:only-of-type {\n",
       "        vertical-align: middle;\n",
       "    }\n",
       "\n",
       "    .dataframe tbody tr th {\n",
       "        vertical-align: top;\n",
       "    }\n",
       "\n",
       "    .dataframe thead th {\n",
       "        text-align: right;\n",
       "    }\n",
       "</style>\n",
       "<table border=\"1\" class=\"dataframe\">\n",
       "  <thead>\n",
       "    <tr style=\"text-align: right;\">\n",
       "      <th></th>\n",
       "      <th>lcavol</th>\n",
       "      <th>lweight</th>\n",
       "      <th>age</th>\n",
       "      <th>lbph</th>\n",
       "      <th>svi</th>\n",
       "      <th>lcp</th>\n",
       "      <th>gleason</th>\n",
       "      <th>pgg45</th>\n",
       "      <th>lpsa</th>\n",
       "    </tr>\n",
       "  </thead>\n",
       "  <tbody>\n",
       "    <tr>\n",
       "      <th>count</th>\n",
       "      <td>97.00</td>\n",
       "      <td>97.00</td>\n",
       "      <td>97.00</td>\n",
       "      <td>97.00</td>\n",
       "      <td>97.00</td>\n",
       "      <td>97.00</td>\n",
       "      <td>97.00</td>\n",
       "      <td>97.00</td>\n",
       "      <td>97.00</td>\n",
       "    </tr>\n",
       "    <tr>\n",
       "      <th>mean</th>\n",
       "      <td>1.35</td>\n",
       "      <td>3.63</td>\n",
       "      <td>63.87</td>\n",
       "      <td>0.10</td>\n",
       "      <td>0.22</td>\n",
       "      <td>-0.18</td>\n",
       "      <td>6.75</td>\n",
       "      <td>24.38</td>\n",
       "      <td>2.48</td>\n",
       "    </tr>\n",
       "    <tr>\n",
       "      <th>std</th>\n",
       "      <td>1.18</td>\n",
       "      <td>0.43</td>\n",
       "      <td>7.45</td>\n",
       "      <td>1.45</td>\n",
       "      <td>0.41</td>\n",
       "      <td>1.40</td>\n",
       "      <td>0.72</td>\n",
       "      <td>28.20</td>\n",
       "      <td>1.15</td>\n",
       "    </tr>\n",
       "    <tr>\n",
       "      <th>min</th>\n",
       "      <td>-1.35</td>\n",
       "      <td>2.37</td>\n",
       "      <td>41.00</td>\n",
       "      <td>-1.39</td>\n",
       "      <td>0.00</td>\n",
       "      <td>-1.39</td>\n",
       "      <td>6.00</td>\n",
       "      <td>0.00</td>\n",
       "      <td>-0.43</td>\n",
       "    </tr>\n",
       "    <tr>\n",
       "      <th>25%</th>\n",
       "      <td>0.51</td>\n",
       "      <td>3.38</td>\n",
       "      <td>60.00</td>\n",
       "      <td>-1.39</td>\n",
       "      <td>0.00</td>\n",
       "      <td>-1.39</td>\n",
       "      <td>6.00</td>\n",
       "      <td>0.00</td>\n",
       "      <td>1.73</td>\n",
       "    </tr>\n",
       "    <tr>\n",
       "      <th>50%</th>\n",
       "      <td>1.45</td>\n",
       "      <td>3.62</td>\n",
       "      <td>65.00</td>\n",
       "      <td>0.30</td>\n",
       "      <td>0.00</td>\n",
       "      <td>-0.80</td>\n",
       "      <td>7.00</td>\n",
       "      <td>15.00</td>\n",
       "      <td>2.59</td>\n",
       "    </tr>\n",
       "    <tr>\n",
       "      <th>75%</th>\n",
       "      <td>2.13</td>\n",
       "      <td>3.88</td>\n",
       "      <td>68.00</td>\n",
       "      <td>1.56</td>\n",
       "      <td>0.00</td>\n",
       "      <td>1.18</td>\n",
       "      <td>7.00</td>\n",
       "      <td>40.00</td>\n",
       "      <td>3.06</td>\n",
       "    </tr>\n",
       "    <tr>\n",
       "      <th>max</th>\n",
       "      <td>3.82</td>\n",
       "      <td>4.78</td>\n",
       "      <td>79.00</td>\n",
       "      <td>2.33</td>\n",
       "      <td>1.00</td>\n",
       "      <td>2.90</td>\n",
       "      <td>9.00</td>\n",
       "      <td>100.00</td>\n",
       "      <td>5.58</td>\n",
       "    </tr>\n",
       "  </tbody>\n",
       "</table>\n",
       "</div>"
      ],
      "text/plain": [
       "       lcavol  lweight   age  lbph   svi   lcp  gleason  pgg45  lpsa\n",
       "count   97.00    97.00 97.00 97.00 97.00 97.00    97.00  97.00 97.00\n",
       "mean     1.35     3.63 63.87  0.10  0.22 -0.18     6.75  24.38  2.48\n",
       "std      1.18     0.43  7.45  1.45  0.41  1.40     0.72  28.20  1.15\n",
       "min     -1.35     2.37 41.00 -1.39  0.00 -1.39     6.00   0.00 -0.43\n",
       "25%      0.51     3.38 60.00 -1.39  0.00 -1.39     6.00   0.00  1.73\n",
       "50%      1.45     3.62 65.00  0.30  0.00 -0.80     7.00  15.00  2.59\n",
       "75%      2.13     3.88 68.00  1.56  0.00  1.18     7.00  40.00  3.06\n",
       "max      3.82     4.78 79.00  2.33  1.00  2.90     9.00 100.00  5.58"
      ]
     },
     "execution_count": 6,
     "metadata": {},
     "output_type": "execute_result"
    }
   ],
   "source": [
    "pd.set_option('display.float_format', lambda x: '%.2f' % x)\n",
    "data.describe()"
   ]
  },
  {
   "cell_type": "code",
   "execution_count": 7,
   "metadata": {
    "colab": {
     "base_uri": "https://localhost:8080/",
     "height": 1000
    },
    "id": "-eq4oNCvwWpt",
    "outputId": "d2a72614-7efd-4252-c0eb-f8a9f497cc12"
   },
   "outputs": [
    {
     "data": {
      "image/png": "[encoded data removed]",
      "text/plain": [
       "<Figure size 1600x1200 with 9 Axes>"
      ]
     },
     "metadata": {},
     "output_type": "display_data"
    }
   ],
   "source": [
    "f = data.hist(bins=30, figsize=(16, 12))"
   ]
  },
  {
   "cell_type": "markdown",
   "metadata": {
    "id": "LeFKNzImyhRT"
   },
   "source": [
    "Observaciones:\n",
    "\n",
    "*   svi es binaria\n",
    "*   gleason parece discreta\n"
   ]
  },
  {
   "cell_type": "code",
   "execution_count": 8,
   "metadata": {
    "colab": {
     "base_uri": "https://localhost:8080/",
     "height": 676
    },
    "id": "NbTvl7Nwwmlg",
    "outputId": "89e25db7-42e4-48de-c081-99b2cc1e3c33"
   },
   "outputs": [
    {
     "data": {
      "image/png": "[encoded data removed]",
      "text/plain": [
       "<Figure size 1200x800 with 1 Axes>"
      ]
     },
     "metadata": {},
     "output_type": "display_data"
    }
   ],
   "source": [
    "f = data.boxplot(figsize=(12, 8))"
   ]
  },
  {
   "cell_type": "markdown",
   "metadata": {
    "id": "7HNYxFA5xQvZ"
   },
   "source": [
    "# Pre-processing"
   ]
  },
  {
   "cell_type": "code",
   "execution_count": 9,
   "metadata": {
    "colab": {
     "base_uri": "https://localhost:8080/"
    },
    "id": "v4FST0jkxP7m",
    "outputId": "aff4aafa-8ff9-411c-c2b8-52d38a3581ec"
   },
   "outputs": [
    {
     "name": "stdout",
     "output_type": "stream",
     "text": [
      "['lcavol', 'lweight', 'age', 'lbph', 'svi', 'lcp', 'pgg45', 'gleason_6', 'gleason_7', 'gleason_8', 'gleason_9'] ['lpsa']\n",
      "Training N: 67 from NTotal: 97\n",
      "Test N: 30 from NTotal: 97\n"
     ]
    }
   ],
   "source": [
    "data = pd.get_dummies(data, prefix=['gleason'], columns=['gleason'], dtype=int)\n",
    "columns_x = data.columns.tolist()\n",
    "columns_x.remove(\"train\")\n",
    "columns_x.remove(\"lpsa\")\n",
    "columns_y = ['lpsa']\n",
    "print(columns_x,columns_y)\n",
    "\n",
    "training_data = data[data['train']=='T'].drop(columns=['train'])\n",
    "test_data = data[data['train']!='T'].drop(columns=['train'])\n",
    "\n",
    "print(\"Training N:\", len(training_data), \"from NTotal:\",len(data))\n",
    "print(\"Test N:\",len(test_data),\"from NTotal:\",len(data))"
   ]
  },
  {
   "cell_type": "code",
   "execution_count": 10,
   "metadata": {
    "colab": {
     "base_uri": "https://localhost:8080/",
     "height": 206
    },
    "id": "rn5mNsRZzbNR",
    "outputId": "1866f8fe-f832-466f-cef7-c88521a6cd4f"
   },
   "outputs": [
    {
     "data": {
      "text/html": [
       "<div>\n",
       "<style scoped>\n",
       "    .dataframe tbody tr th:only-of-type {\n",
       "        vertical-align: middle;\n",
       "    }\n",
       "\n",
       "    .dataframe tbody tr th {\n",
       "        vertical-align: top;\n",
       "    }\n",
       "\n",
       "    .dataframe thead th {\n",
       "        text-align: right;\n",
       "    }\n",
       "</style>\n",
       "<table border=\"1\" class=\"dataframe\">\n",
       "  <thead>\n",
       "    <tr style=\"text-align: right;\">\n",
       "      <th></th>\n",
       "      <th>lcavol</th>\n",
       "      <th>lweight</th>\n",
       "      <th>age</th>\n",
       "      <th>lbph</th>\n",
       "      <th>svi</th>\n",
       "      <th>lcp</th>\n",
       "      <th>pgg45</th>\n",
       "      <th>lpsa</th>\n",
       "      <th>gleason_6</th>\n",
       "      <th>gleason_7</th>\n",
       "      <th>gleason_8</th>\n",
       "      <th>gleason_9</th>\n",
       "    </tr>\n",
       "  </thead>\n",
       "  <tbody>\n",
       "    <tr>\n",
       "      <th>1</th>\n",
       "      <td>-0.58</td>\n",
       "      <td>2.77</td>\n",
       "      <td>50</td>\n",
       "      <td>-1.39</td>\n",
       "      <td>0</td>\n",
       "      <td>-1.39</td>\n",
       "      <td>0</td>\n",
       "      <td>-0.43</td>\n",
       "      <td>1</td>\n",
       "      <td>0</td>\n",
       "      <td>0</td>\n",
       "      <td>0</td>\n",
       "    </tr>\n",
       "    <tr>\n",
       "      <th>2</th>\n",
       "      <td>-0.99</td>\n",
       "      <td>3.32</td>\n",
       "      <td>58</td>\n",
       "      <td>-1.39</td>\n",
       "      <td>0</td>\n",
       "      <td>-1.39</td>\n",
       "      <td>0</td>\n",
       "      <td>-0.16</td>\n",
       "      <td>1</td>\n",
       "      <td>0</td>\n",
       "      <td>0</td>\n",
       "      <td>0</td>\n",
       "    </tr>\n",
       "    <tr>\n",
       "      <th>3</th>\n",
       "      <td>-0.51</td>\n",
       "      <td>2.69</td>\n",
       "      <td>74</td>\n",
       "      <td>-1.39</td>\n",
       "      <td>0</td>\n",
       "      <td>-1.39</td>\n",
       "      <td>20</td>\n",
       "      <td>-0.16</td>\n",
       "      <td>0</td>\n",
       "      <td>1</td>\n",
       "      <td>0</td>\n",
       "      <td>0</td>\n",
       "    </tr>\n",
       "    <tr>\n",
       "      <th>4</th>\n",
       "      <td>-1.20</td>\n",
       "      <td>3.28</td>\n",
       "      <td>58</td>\n",
       "      <td>-1.39</td>\n",
       "      <td>0</td>\n",
       "      <td>-1.39</td>\n",
       "      <td>0</td>\n",
       "      <td>-0.16</td>\n",
       "      <td>1</td>\n",
       "      <td>0</td>\n",
       "      <td>0</td>\n",
       "      <td>0</td>\n",
       "    </tr>\n",
       "    <tr>\n",
       "      <th>5</th>\n",
       "      <td>0.75</td>\n",
       "      <td>3.43</td>\n",
       "      <td>62</td>\n",
       "      <td>-1.39</td>\n",
       "      <td>0</td>\n",
       "      <td>-1.39</td>\n",
       "      <td>0</td>\n",
       "      <td>0.37</td>\n",
       "      <td>1</td>\n",
       "      <td>0</td>\n",
       "      <td>0</td>\n",
       "      <td>0</td>\n",
       "    </tr>\n",
       "  </tbody>\n",
       "</table>\n",
       "</div>"
      ],
      "text/plain": [
       "   lcavol  lweight  age  lbph  svi   lcp  pgg45  lpsa  gleason_6  gleason_7  \\\n",
       "1   -0.58     2.77   50 -1.39    0 -1.39      0 -0.43          1          0   \n",
       "2   -0.99     3.32   58 -1.39    0 -1.39      0 -0.16          1          0   \n",
       "3   -0.51     2.69   74 -1.39    0 -1.39     20 -0.16          0          1   \n",
       "4   -1.20     3.28   58 -1.39    0 -1.39      0 -0.16          1          0   \n",
       "5    0.75     3.43   62 -1.39    0 -1.39      0  0.37          1          0   \n",
       "\n",
       "   gleason_8  gleason_9  \n",
       "1          0          0  \n",
       "2          0          0  \n",
       "3          0          0  \n",
       "4          0          0  \n",
       "5          0          0  "
      ]
     },
     "execution_count": 10,
     "metadata": {},
     "output_type": "execute_result"
    }
   ],
   "source": [
    "training_data.head(5)"
   ]
  },
  {
   "cell_type": "code",
   "execution_count": 11,
   "metadata": {
    "id": "XO0vIYoYzWUT"
   },
   "outputs": [],
   "source": [
    "from sklearn import preprocessing\n",
    "\n",
    "cont_predictors = ['lcavol', 'lweight', 'age', 'lbph', 'svi', 'lcp', 'pgg45']\n",
    "X_train = training_data.loc[:, training_data.columns != 'lpsa']\n",
    "y_train = np.expand_dims(training_data['lpsa'].values,axis=1)\n",
    "\n",
    "X_test = test_data.loc[:, test_data.columns != 'lpsa']\n",
    "y_test = np.expand_dims(test_data['lpsa'].values,axis=1)"
   ]
  },
  {
   "cell_type": "markdown",
   "metadata": {
    "id": "4he9p4Zh6uq5"
   },
   "source": [
    "## Scaling"
   ]
  },
  {
   "cell_type": "code",
   "execution_count": 12,
   "metadata": {
    "id": "nxK-cUCj0s4P"
   },
   "outputs": [],
   "source": [
    "x_scaler = preprocessing.StandardScaler().fit(X_train[cont_predictors])\n",
    "y_scaler = preprocessing.StandardScaler().fit(y_train)\n",
    "\n",
    "X_train[cont_predictors] = x_scaler.transform(X_train[cont_predictors])\n",
    "X_test[cont_predictors] = x_scaler.transform(X_test[cont_predictors])\n",
    "\n",
    "y_train = y_scaler.transform(y_train)\n",
    "y_test = y_scaler.transform(y_test)"
   ]
  },
  {
   "cell_type": "markdown",
   "metadata": {},
   "source": [
    "## Modelo Lineal"
   ]
  },
  {
   "cell_type": "code",
   "execution_count": 13,
   "metadata": {
    "colab": {
     "base_uri": "https://localhost:8080/"
    },
    "id": "5rbjGqI_jJxY",
    "outputId": "a5a8bacf-c07d-4244-e18b-48fcb57dba06"
   },
   "outputs": [
    {
     "data": {
      "text/plain": [
       "0.7124450114498246"
      ]
     },
     "execution_count": 13,
     "metadata": {},
     "output_type": "execute_result"
    }
   ],
   "source": [
    "from sklearn.linear_model import LinearRegression\n",
    "\n",
    "reg = LinearRegression().fit(X_train, y_train)\n",
    "reg.score(X_train, y_train)"
   ]
  },
  {
   "cell_type": "code",
   "execution_count": 14,
   "metadata": {},
   "outputs": [
    {
     "data": {
      "text/plain": [
       "np.float64(0.3835393195819586)"
      ]
     },
     "execution_count": 14,
     "metadata": {},
     "output_type": "execute_result"
    }
   ],
   "source": [
    "from sklearn.metrics import mean_squared_error, mean_absolute_error\n",
    "\n",
    "y_hat = reg.predict(X_test)\n",
    "\n",
    "mean_squared_error(y_test, y_hat)"
   ]
  },
  {
   "cell_type": "code",
   "execution_count": 15,
   "metadata": {},
   "outputs": [
    {
     "data": {
      "text/plain": [
       "np.float64(0.44330040691304623)"
      ]
     },
     "execution_count": 15,
     "metadata": {},
     "output_type": "execute_result"
    }
   ],
   "source": [
    "mean_absolute_error(y_test, y_hat)"
   ]
  },
  {
   "cell_type": "code",
   "execution_count": 16,
   "metadata": {},
   "outputs": [
    {
     "name": "stdout",
     "output_type": "stream",
     "text": [
      "                            OLS Regression Results                            \n",
      "==============================================================================\n",
      "Dep. Variable:                      y   R-squared:                       0.712\n",
      "Model:                            OLS   Adj. R-squared:                  0.661\n",
      "Method:                 Least Squares   F-statistic:                     13.87\n",
      "Date:                Wed, 25 Sep 2024   Prob (F-statistic):           6.85e-12\n",
      "Time:                        20:20:21   Log-Likelihood:                -53.316\n",
      "No. Observations:                  67   AIC:                             128.6\n",
      "Df Residuals:                      56   BIC:                             152.9\n",
      "Df Model:                          10                                         \n",
      "Covariance Type:            nonrobust                                         \n",
      "==============================================================================\n",
      "                 coef    std err          t      P>|t|      [0.025      0.975]\n",
      "------------------------------------------------------------------------------\n",
      "const          0.0072      0.151      0.048      0.962      -0.296       0.310\n",
      "lcavol         0.5845      0.113      5.164      0.000       0.358       0.811\n",
      "lweight        0.2550      0.088      2.893      0.005       0.078       0.432\n",
      "age           -0.1378      0.084     -1.634      0.108      -0.307       0.031\n",
      "lbph           0.1599      0.087      1.846      0.070      -0.014       0.333\n",
      "svi            0.2459      0.106      2.318      0.024       0.033       0.458\n",
      "lcp           -0.2847      0.139     -2.042      0.046      -0.564      -0.005\n",
      "pgg45          0.2682      0.148      1.814      0.075      -0.028       0.564\n",
      "gleason_6     -0.0843      0.232     -0.363      0.718      -0.549       0.381\n",
      "gleason_7      0.0684      0.173      0.395      0.695      -0.279       0.416\n",
      "gleason_8      0.5221      0.533      0.979      0.332      -0.546       1.590\n",
      "gleason_9     -0.4990      0.405     -1.231      0.223      -1.311       0.313\n",
      "==============================================================================\n",
      "Omnibus:                        0.082   Durbin-Watson:                   1.742\n",
      "Prob(Omnibus):                  0.960   Jarque-Bera (JB):                0.015\n",
      "Skew:                          -0.025   Prob(JB):                        0.992\n",
      "Kurtosis:                       2.945   Cond. No.                     2.55e+16\n",
      "==============================================================================\n",
      "\n",
      "Notes:\n",
      "[1] Standard Errors assume that the covariance matrix of the errors is correctly specified.\n",
      "[2] The smallest eigenvalue is 3.27e-31. This might indicate that there are\n",
      "strong multicollinearity problems or that the design matrix is singular.\n"
     ]
    }
   ],
   "source": [
    "import statsmodels.api as sm\n",
    "\n",
    "X_train = sm.add_constant(X_train)  \n",
    "model_sm = sm.OLS(y_train, X_train).fit()  \n",
    "print(model_sm.summary()) "
   ]
  },
  {
   "cell_type": "markdown",
   "metadata": {},
   "source": [
    "* Vemos que age, lbph, pgg45 y los gleason tienen valores p mayores a 0.5 y que sus intervalos de confianza pasan por 0. Por lo que se puede concluir que no son buenos indicadores para predecir el lpsa"
   ]
  },
  {
   "cell_type": "code",
   "execution_count": 25,
   "metadata": {},
   "outputs": [
    {
     "data": {
      "text/plain": [
       "0.6374405385171894"
      ]
     },
     "execution_count": 25,
     "metadata": {},
     "output_type": "execute_result"
    }
   ],
   "source": [
    "X_train2 = X_train[['lcavol', 'lweight', 'svi']]\n",
    "X_test2 = X_test[['lcavol', 'lweight', 'svi']]\n",
    "reg2 = LinearRegression().fit(X_train2, y_train)\n",
    "\n",
    "reg2.score(X_train2, y_train)"
   ]
  },
  {
   "cell_type": "code",
   "execution_count": 26,
   "metadata": {},
   "outputs": [
    {
     "data": {
      "text/plain": [
       "np.float64(0.2787200015034063)"
      ]
     },
     "execution_count": 26,
     "metadata": {},
     "output_type": "execute_result"
    }
   ],
   "source": [
    "y2_hat = reg2.predict(X_test2)\n",
    "\n",
    "mean_squared_error(y_test, y2_hat)"
   ]
  },
  {
   "cell_type": "code",
   "execution_count": 27,
   "metadata": {},
   "outputs": [
    {
     "data": {
      "text/plain": [
       "np.float64(0.4097091202754548)"
      ]
     },
     "execution_count": 27,
     "metadata": {},
     "output_type": "execute_result"
    }
   ],
   "source": [
    "mean_absolute_error(y_test, y2_hat)"
   ]
  },
  {
   "cell_type": "code",
   "execution_count": 28,
   "metadata": {},
   "outputs": [
    {
     "name": "stdout",
     "output_type": "stream",
     "text": [
      "                            OLS Regression Results                            \n",
      "==============================================================================\n",
      "Dep. Variable:                      y   R-squared:                       0.637\n",
      "Model:                            OLS   Adj. R-squared:                  0.620\n",
      "Method:                 Least Squares   F-statistic:                     36.92\n",
      "Date:                Wed, 25 Sep 2024   Prob (F-statistic):           6.81e-14\n",
      "Time:                        20:22:05   Log-Likelihood:                -61.081\n",
      "No. Observations:                  67   AIC:                             130.2\n",
      "Df Residuals:                      63   BIC:                             139.0\n",
      "Df Model:                           3                                         \n",
      "Covariance Type:            nonrobust                                         \n",
      "==============================================================================\n",
      "                 coef    std err          t      P>|t|      [0.025      0.975]\n",
      "------------------------------------------------------------------------------\n",
      "const       1.527e-16      0.076   2.01e-15      1.000      -0.152       0.152\n",
      "lcavol         0.5350      0.097      5.507      0.000       0.341       0.729\n",
      "lweight        0.2907      0.080      3.656      0.001       0.132       0.450\n",
      "svi            0.1870      0.094      1.985      0.051      -0.001       0.375\n",
      "==============================================================================\n",
      "Omnibus:                        0.230   Durbin-Watson:                   1.758\n",
      "Prob(Omnibus):                  0.891   Jarque-Bera (JB):                0.361\n",
      "Skew:                          -0.124   Prob(JB):                        0.835\n",
      "Kurtosis:                       2.740   Cond. No.                         2.11\n",
      "==============================================================================\n",
      "\n",
      "Notes:\n",
      "[1] Standard Errors assume that the covariance matrix of the errors is correctly specified.\n"
     ]
    }
   ],
   "source": [
    "X_train2 = sm.add_constant(X_train2)\n",
    "model2_sm = sm.OLS(y_train, X_train2).fit()  \n",
    "print(model2_sm.summary())"
   ]
  },
  {
   "cell_type": "markdown",
   "metadata": {},
   "source": [
    "* Esta regresión es mejor para predecir el lpsa"
   ]
  },
  {
   "cell_type": "markdown",
   "metadata": {},
   "source": [
    "* En conclusión es posible aprender a predecir la respuesta en función de los predictores disponibles y los predictores más importantes son lcavol, lweight y en menor medida svi"
   ]
  },
  {
   "cell_type": "code",
   "execution_count": null,
   "metadata": {},
   "outputs": [],
   "source": []
  }
 ],
 "metadata": {
  "colab": {
   "provenance": []
  },
  "kernelspec": {
   "display_name": "Python 3 (ipykernel)",
   "language": "python",
   "name": "python3"
  },
  "language_info": {
   "codemirror_mode": {
    "name": "ipython",
    "version": 3
   },
   "file_extension": ".py",
   "mimetype": "text/x-python",
   "name": "python",
   "nbconvert_exporter": "python",
   "pygments_lexer": "ipython3",
   "version": "3.12.6"
  }
 },
 "nbformat": 4,
 "nbformat_minor": 4
}
