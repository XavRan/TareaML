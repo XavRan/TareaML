{
  "nbformat": 4,
  "nbformat_minor": 0,
  "metadata": {
    "colab": {
      "provenance": [],
      "toc_visible": true
    },
    "kernelspec": {
      "name": "python3",
      "display_name": "Python 3"
    },
    "language_info": {
      "name": "python"
    }
  },
  "cells": [
    {
      "cell_type": "markdown",
      "source": [
        "# ML. Ejemplo Modelo Lineal y Regularización"
      ],
      "metadata": {
        "id": "vKByGjc6lWzx"
      }
    },
    {
      "cell_type": "markdown",
      "source": [
        "Los datos de este ejercicio provienen de un estudio realizado por Stamey et al. (1989) y es presentado en el capítulo 3 del libro guía \"The Elements of Statistical Learning\". Stamey et alexaminaron la correlación entre el nivel de antígeno prostático específico (lpsa) y varias medidas clínicas en hombres que estaban a punto de someterse a una prostatectomía radical. Las variables son: volumen de cáncer logarítmico (lcavol), peso prostático logarítmico (lweight), edad, logaritmo de la cantidad de hiperplasia prostática benigna (lbph), invasión de vesículas seminales (svi), logaritmo de la penetración capsular (lcp), puntuación de Gleason (gleason) y porcentaje de puntuaciones de Gleason de 4 o 5 (pgg45).\n",
        "\n",
        "\n"
      ],
      "metadata": {
        "id": "iXz7QHlc-5bt"
      }
    },
    {
      "cell_type": "markdown",
      "source": [
        "*Debe formar equipos de entre 2 y 4 personas para abordar las siguientes preguntas de modo consensuado. Designar un secretario que entrega el código y un vocero que expone en caso de ser interpelado.*"
      ],
      "metadata": {
        "id": "_Nouutks-7SN"
      }
    },
    {
      "cell_type": "markdown",
      "source": [
        "\n",
        "\n",
        "1.   ¿Es posible aprender a predecir satisfactoriamente la respuesta (lpsa) en función de los predictores disponibles?\n",
        "2.   Si asumimos que el modelo lineal es correcto, ¿Qué variables están más relacionadas con la variable respuesta (lpsa)?\n",
        "\n"
      ],
      "metadata": {
        "id": "5bxl9FhD9NrT"
      }
    },
    {
      "cell_type": "markdown",
      "source": [
        "<table align='left'>\n",
        "<tr>\n",
        "<td><img src='https://assets.roche.com/f/173873/1920x1440/a7d6ecfcda/oncologie-cancer-prostate.jpg/m/768x0/filters:format(webp):quality(90)/' width='650'/>\n",
        "</tr>\n",
        "</table>\n"
      ],
      "metadata": {
        "id": "9HaNeIyjlcrT"
      }
    },
    {
      "cell_type": "markdown",
      "source": [
        "# Basic Imports"
      ],
      "metadata": {
        "id": "NkYg4aEdmrOU"
      }
    },
    {
      "cell_type": "code",
      "source": [
        "import pandas as pd\n",
        "import numpy as np\n",
        "import seaborn as sns; sns.set()\n",
        "import matplotlib.pyplot as plt\n",
        "from sklearn.utils import shuffle\n",
        "\n",
        "\n",
        "import warnings; warnings.filterwarnings(\"ignore\")\n",
        "plt.rcParams.update({'font.size': 8})\n",
        "plt.rc('xtick',labelsize=8)\n",
        "plt.rc('ytick',labelsize=8)\n",
        "plt.rc('axes', labelsize=8)\n",
        "plt.rc('legend',fontsize=10)\n",
        "plt.rc('axes',titlesize=10)\n"
      ],
      "metadata": {
        "id": "g9Whsr0lmstH"
      },
      "execution_count": 30,
      "outputs": []
    },
    {
      "cell_type": "markdown",
      "source": [
        "# Data"
      ],
      "metadata": {
        "id": "CsMol44HmwtF"
      }
    },
    {
      "cell_type": "code",
      "source": [
        "!wget http://www.inf.utfsm.cl/~jnancu/ProstateCancer.csv"
      ],
      "metadata": {
        "colab": {
          "base_uri": "https://localhost:8080/"
        },
        "id": "S3UkolWck9Dn",
        "outputId": "d922518a-4b83-4ef7-922a-de71bce10cef"
      },
      "execution_count": 1,
      "outputs": [
        {
          "output_type": "stream",
          "name": "stdout",
          "text": [
            "--2024-09-12 18:58:35--  http://www.inf.utfsm.cl/~jnancu/ProstateCancer.csv\n",
            "Resolving www.inf.utfsm.cl (www.inf.utfsm.cl)... 200.1.19.11, 2800:270:c::11\n",
            "Connecting to www.inf.utfsm.cl (www.inf.utfsm.cl)|200.1.19.11|:80... connected.\n",
            "HTTP request sent, awaiting response... 302 Found\n",
            "Location: https://www.inf.utfsm.cl/~jnancu/ProstateCancer.csv [following]\n",
            "--2024-09-12 18:58:35--  https://www.inf.utfsm.cl/~jnancu/ProstateCancer.csv\n",
            "Connecting to www.inf.utfsm.cl (www.inf.utfsm.cl)|200.1.19.11|:443... connected.\n",
            "HTTP request sent, awaiting response... 200 OK\n",
            "Length: 7129 (7.0K) [application/octet-stream]\n",
            "Saving to: ‘ProstateCancer.csv’\n",
            "\n",
            "ProstateCancer.csv  100%[===================>]   6.96K  --.-KB/s    in 0s      \n",
            "\n",
            "2024-09-12 18:58:37 (172 MB/s) - ‘ProstateCancer.csv’ saved [7129/7129]\n",
            "\n"
          ]
        }
      ]
    },
    {
      "cell_type": "code",
      "source": [
        "data_raw = pd.read_table('ProstateCancer.csv', sep='\\s+')"
      ],
      "metadata": {
        "id": "6iqQhndLmphu"
      },
      "execution_count": 56,
      "outputs": []
    },
    {
      "cell_type": "code",
      "source": [
        "columns_x = data_raw.columns.tolist()\n",
        "columns_x.remove(\"train\")\n",
        "columns_x.remove(\"lpsa\")\n",
        "columns_y = ['lpsa']\n",
        "print(columns_x,columns_y)"
      ],
      "metadata": {
        "colab": {
          "base_uri": "https://localhost:8080/"
        },
        "id": "asJB_-il37aU",
        "outputId": "5c292478-d408-44fd-d290-b38d6dcab3a3"
      },
      "execution_count": 84,
      "outputs": [
        {
          "output_type": "stream",
          "name": "stdout",
          "text": [
            "['lcavol', 'lweight', 'age', 'lbph', 'svi', 'lcp', 'gleason', 'pgg45'] ['lpsa']\n"
          ]
        }
      ]
    },
    {
      "cell_type": "code",
      "source": [
        "print(data_raw.head(5))"
      ],
      "metadata": {
        "colab": {
          "base_uri": "https://localhost:8080/"
        },
        "id": "iKh6XEbIm2t9",
        "outputId": "c990df6e-8a2c-429e-87d5-9889d8547864"
      },
      "execution_count": 83,
      "outputs": [
        {
          "output_type": "stream",
          "name": "stdout",
          "text": [
            "     lcavol   lweight  age      lbph  svi       lcp  gleason  pgg45      lpsa  \\\n",
            "1 -0.579818  2.769459   50 -1.386294    0 -1.386294        6      0 -0.430783   \n",
            "2 -0.994252  3.319626   58 -1.386294    0 -1.386294        6      0 -0.162519   \n",
            "3 -0.510826  2.691243   74 -1.386294    0 -1.386294        7     20 -0.162519   \n",
            "4 -1.203973  3.282789   58 -1.386294    0 -1.386294        6      0 -0.162519   \n",
            "5  0.751416  3.432373   62 -1.386294    0 -1.386294        6      0  0.371564   \n",
            "\n",
            "  train  \n",
            "1     T  \n",
            "2     T  \n",
            "3     T  \n",
            "4     T  \n",
            "5     T  \n"
          ]
        }
      ]
    },
    {
      "cell_type": "markdown",
      "source": [
        "Variables:\n",
        "\n",
        "- **lcavol**: Logaritmo del volumen de material canceroso, medido en mililitros (cc). Este volumen se estimó a partir de imágenes digitalizadas haciendo calculando el área ocupada y multiplicando por un grosor estándar para obtener un volumen.\n",
        "- **lweight**: Logaritmo del peso de la próstata, medido en gramos.\n",
        "- **age**: La edad del paciente, en años.\n",
        "- **lbph**: Logaritmo de la cantidad de hiperplasia prostática benigna (BPH), un agrandamiento no canceroso de la glándula prostática, como un área en una imagen digitalizada y reportada en cm².\n",
        "- **svi**: Invasión de las vesículas seminales, un indicador binario que indica si las células cancerosas de la próstata han invadido la vesícula seminal (1) o no (0).\n",
        "- **lcp**: Logaritmo de la penetración capsular, que representa el nivel de extensión del cáncer en la cápsula (el tejido fibroso que actúa como revestimiento externo de la glándula prostática), medido como la extensión lineal de la penetración, en cm.\n",
        "- **gleason**: Puntaje de Gleason, una medida del grado de agresividad del tumor. El sistema de clasificación de Gleason asigna una calificación (1–5) a cada una de las dos áreas más grandes de cáncer en las muestras de tejido, donde 1 es el menos agresivo y 5 el más agresivo; las dos calificaciones se suman para producir el puntaje de Gleason.\n",
        "- **pgg45**: Porcentaje de puntuaciones de Gleason que son 4 o 5.\n",
        "- **lpsa**: Logaritmo del antígeno prostático específico (PSA), una concentración medida en ng/mL."
      ],
      "metadata": {
        "id": "0Q_Ro6VUlbgm"
      }
    },
    {
      "cell_type": "markdown",
      "source": [
        "# Basic Exploratory"
      ],
      "metadata": {
        "id": "3HHM06IivSh9"
      }
    },
    {
      "cell_type": "code",
      "source": [
        "ORIG=False\n",
        "if ORIG:\n",
        "  data = data_raw\n",
        "else:\n",
        "  data = X_train\n",
        "  data['lpsa'] = y_train"
      ],
      "metadata": {
        "id": "nsttCiGX1DXz"
      },
      "execution_count": 105,
      "outputs": []
    },
    {
      "cell_type": "code",
      "source": [
        "data.columns"
      ],
      "metadata": {
        "colab": {
          "base_uri": "https://localhost:8080/"
        },
        "id": "rRZrcNChwJ_u",
        "outputId": "b5de3f23-9924-4193-94fd-4abf01282c66"
      },
      "execution_count": 106,
      "outputs": [
        {
          "output_type": "execute_result",
          "data": {
            "text/plain": [
              "Index(['lcavol', 'lweight', 'age', 'lbph', 'svi', 'lcp', 'pgg45', 'gleason_6',\n",
              "       'gleason_7', 'gleason_8', 'gleason_9', 'lpsa'],\n",
              "      dtype='object')"
            ]
          },
          "metadata": {},
          "execution_count": 106
        }
      ]
    },
    {
      "cell_type": "code",
      "source": [
        "pd.set_option('display.float_format', lambda x: '%.2f' % x)\n",
        "data.describe()"
      ],
      "metadata": {
        "colab": {
          "base_uri": "https://localhost:8080/",
          "height": 300
        },
        "id": "ydhsfCfiwCVr",
        "outputId": "4edfa093-827f-4340-f859-0f49eca2f72f"
      },
      "execution_count": 107,
      "outputs": [
        {
          "output_type": "execute_result",
          "data": {
            "text/plain": [
              "       lcavol  lweight   age  lbph   svi   lcp  pgg45  gleason_6  gleason_7  \\\n",
              "count   67.00    67.00 67.00 67.00 67.00 67.00  67.00      67.00      67.00   \n",
              "mean     0.00     0.00 -0.00  0.00  0.00 -0.00  -0.00       0.37       0.57   \n",
              "std      1.01     1.01  1.01  1.01  1.01  1.01   1.01       0.49       0.50   \n",
              "min     -2.16    -2.65 -3.19 -1.00 -0.54 -0.84  -0.90       0.00       0.00   \n",
              "25%     -0.67    -0.63 -0.50 -1.00 -0.54 -0.84  -0.90       0.00       0.00   \n",
              "50%      0.13    -0.06  0.03 -0.08 -0.54 -0.42  -0.39       0.00       1.00   \n",
              "75%      0.84     0.54  0.57  1.02 -0.54  0.87   0.82       1.00       1.00   \n",
              "max      2.03     2.44  1.91  1.55  1.86  2.07   2.54       1.00       1.00   \n",
              "\n",
              "       gleason_8  gleason_9  lpsa  \n",
              "count      67.00      67.00 67.00  \n",
              "mean        0.01       0.04  0.00  \n",
              "std         0.12       0.21  1.01  \n",
              "min         0.00       0.00 -2.41  \n",
              "25%         0.00       0.00 -0.65  \n",
              "50%         0.00       0.00  0.10  \n",
              "75%         0.00       0.00  0.76  \n",
              "max         1.00       1.00  2.52  "
            ],
            "text/html": [
              "\n",
              "  <div id=\"df-c397577a-4c22-45d8-ac7c-f3bbcc820c34\" class=\"colab-df-container\">\n",
              "    <div>\n",
              "<style scoped>\n",
              "    .dataframe tbody tr th:only-of-type {\n",
              "        vertical-align: middle;\n",
              "    }\n",
              "\n",
              "    .dataframe tbody tr th {\n",
              "        vertical-align: top;\n",
              "    }\n",
              "\n",
              "    .dataframe thead th {\n",
              "        text-align: right;\n",
              "    }\n",
              "</style>\n",
              "<table border=\"1\" class=\"dataframe\">\n",
              "  <thead>\n",
              "    <tr style=\"text-align: right;\">\n",
              "      <th></th>\n",
              "      <th>lcavol</th>\n",
              "      <th>lweight</th>\n",
              "      <th>age</th>\n",
              "      <th>lbph</th>\n",
              "      <th>svi</th>\n",
              "      <th>lcp</th>\n",
              "      <th>pgg45</th>\n",
              "      <th>gleason_6</th>\n",
              "      <th>gleason_7</th>\n",
              "      <th>gleason_8</th>\n",
              "      <th>gleason_9</th>\n",
              "      <th>lpsa</th>\n",
              "    </tr>\n",
              "  </thead>\n",
              "  <tbody>\n",
              "    <tr>\n",
              "      <th>count</th>\n",
              "      <td>67.00</td>\n",
              "      <td>67.00</td>\n",
              "      <td>67.00</td>\n",
              "      <td>67.00</td>\n",
              "      <td>67.00</td>\n",
              "      <td>67.00</td>\n",
              "      <td>67.00</td>\n",
              "      <td>67.00</td>\n",
              "      <td>67.00</td>\n",
              "      <td>67.00</td>\n",
              "      <td>67.00</td>\n",
              "      <td>67.00</td>\n",
              "    </tr>\n",
              "    <tr>\n",
              "      <th>mean</th>\n",
              "      <td>0.00</td>\n",
              "      <td>0.00</td>\n",
              "      <td>-0.00</td>\n",
              "      <td>0.00</td>\n",
              "      <td>0.00</td>\n",
              "      <td>-0.00</td>\n",
              "      <td>-0.00</td>\n",
              "      <td>0.37</td>\n",
              "      <td>0.57</td>\n",
              "      <td>0.01</td>\n",
              "      <td>0.04</td>\n",
              "      <td>0.00</td>\n",
              "    </tr>\n",
              "    <tr>\n",
              "      <th>std</th>\n",
              "      <td>1.01</td>\n",
              "      <td>1.01</td>\n",
              "      <td>1.01</td>\n",
              "      <td>1.01</td>\n",
              "      <td>1.01</td>\n",
              "      <td>1.01</td>\n",
              "      <td>1.01</td>\n",
              "      <td>0.49</td>\n",
              "      <td>0.50</td>\n",
              "      <td>0.12</td>\n",
              "      <td>0.21</td>\n",
              "      <td>1.01</td>\n",
              "    </tr>\n",
              "    <tr>\n",
              "      <th>min</th>\n",
              "      <td>-2.16</td>\n",
              "      <td>-2.65</td>\n",
              "      <td>-3.19</td>\n",
              "      <td>-1.00</td>\n",
              "      <td>-0.54</td>\n",
              "      <td>-0.84</td>\n",
              "      <td>-0.90</td>\n",
              "      <td>0.00</td>\n",
              "      <td>0.00</td>\n",
              "      <td>0.00</td>\n",
              "      <td>0.00</td>\n",
              "      <td>-2.41</td>\n",
              "    </tr>\n",
              "    <tr>\n",
              "      <th>25%</th>\n",
              "      <td>-0.67</td>\n",
              "      <td>-0.63</td>\n",
              "      <td>-0.50</td>\n",
              "      <td>-1.00</td>\n",
              "      <td>-0.54</td>\n",
              "      <td>-0.84</td>\n",
              "      <td>-0.90</td>\n",
              "      <td>0.00</td>\n",
              "      <td>0.00</td>\n",
              "      <td>0.00</td>\n",
              "      <td>0.00</td>\n",
              "      <td>-0.65</td>\n",
              "    </tr>\n",
              "    <tr>\n",
              "      <th>50%</th>\n",
              "      <td>0.13</td>\n",
              "      <td>-0.06</td>\n",
              "      <td>0.03</td>\n",
              "      <td>-0.08</td>\n",
              "      <td>-0.54</td>\n",
              "      <td>-0.42</td>\n",
              "      <td>-0.39</td>\n",
              "      <td>0.00</td>\n",
              "      <td>1.00</td>\n",
              "      <td>0.00</td>\n",
              "      <td>0.00</td>\n",
              "      <td>0.10</td>\n",
              "    </tr>\n",
              "    <tr>\n",
              "      <th>75%</th>\n",
              "      <td>0.84</td>\n",
              "      <td>0.54</td>\n",
              "      <td>0.57</td>\n",
              "      <td>1.02</td>\n",
              "      <td>-0.54</td>\n",
              "      <td>0.87</td>\n",
              "      <td>0.82</td>\n",
              "      <td>1.00</td>\n",
              "      <td>1.00</td>\n",
              "      <td>0.00</td>\n",
              "      <td>0.00</td>\n",
              "      <td>0.76</td>\n",
              "    </tr>\n",
              "    <tr>\n",
              "      <th>max</th>\n",
              "      <td>2.03</td>\n",
              "      <td>2.44</td>\n",
              "      <td>1.91</td>\n",
              "      <td>1.55</td>\n",
              "      <td>1.86</td>\n",
              "      <td>2.07</td>\n",
              "      <td>2.54</td>\n",
              "      <td>1.00</td>\n",
              "      <td>1.00</td>\n",
              "      <td>1.00</td>\n",
              "      <td>1.00</td>\n",
              "      <td>2.52</td>\n",
              "    </tr>\n",
              "  </tbody>\n",
              "</table>\n",
              "</div>\n",
              "    <div class=\"colab-df-buttons\">\n",
              "\n",
              "  <div class=\"colab-df-container\">\n",
              "    <button class=\"colab-df-convert\" onclick=\"convertToInteractive('df-c397577a-4c22-45d8-ac7c-f3bbcc820c34')\"\n",
              "            title=\"Convert this dataframe to an interactive table.\"\n",
              "            style=\"display:none;\">\n",
              "\n",
              "  <svg xmlns=\"http://www.w3.org/2000/svg\" height=\"24px\" viewBox=\"0 -960 960 960\">\n",
              "    <path d=\"M120-120v-720h720v720H120Zm60-500h600v-160H180v160Zm220 220h160v-160H400v160Zm0 220h160v-160H400v160ZM180-400h160v-160H180v160Zm440 0h160v-160H620v160ZM180-180h160v-160H180v160Zm440 0h160v-160H620v160Z\"/>\n",
              "  </svg>\n",
              "    </button>\n",
              "\n",
              "  <style>\n",
              "    .colab-df-container {\n",
              "      display:flex;\n",
              "      gap: 12px;\n",
              "    }\n",
              "\n",
              "    .colab-df-convert {\n",
              "      background-color: #E8F0FE;\n",
              "      border: none;\n",
              "      border-radius: 50%;\n",
              "      cursor: pointer;\n",
              "      display: none;\n",
              "      fill: #1967D2;\n",
              "      height: 32px;\n",
              "      padding: 0 0 0 0;\n",
              "      width: 32px;\n",
              "    }\n",
              "\n",
              "    .colab-df-convert:hover {\n",
              "      background-color: #E2EBFA;\n",
              "      box-shadow: 0px 1px 2px rgba(60, 64, 67, 0.3), 0px 1px 3px 1px rgba(60, 64, 67, 0.15);\n",
              "      fill: #174EA6;\n",
              "    }\n",
              "\n",
              "    .colab-df-buttons div {\n",
              "      margin-bottom: 4px;\n",
              "    }\n",
              "\n",
              "    [theme=dark] .colab-df-convert {\n",
              "      background-color: #3B4455;\n",
              "      fill: #D2E3FC;\n",
              "    }\n",
              "\n",
              "    [theme=dark] .colab-df-convert:hover {\n",
              "      background-color: #434B5C;\n",
              "      box-shadow: 0px 1px 3px 1px rgba(0, 0, 0, 0.15);\n",
              "      filter: drop-shadow(0px 1px 2px rgba(0, 0, 0, 0.3));\n",
              "      fill: #FFFFFF;\n",
              "    }\n",
              "  </style>\n",
              "\n",
              "    <script>\n",
              "      const buttonEl =\n",
              "        document.querySelector('#df-c397577a-4c22-45d8-ac7c-f3bbcc820c34 button.colab-df-convert');\n",
              "      buttonEl.style.display =\n",
              "        google.colab.kernel.accessAllowed ? 'block' : 'none';\n",
              "\n",
              "      async function convertToInteractive(key) {\n",
              "        const element = document.querySelector('#df-c397577a-4c22-45d8-ac7c-f3bbcc820c34');\n",
              "        const dataTable =\n",
              "          await google.colab.kernel.invokeFunction('convertToInteractive',\n",
              "                                                    [key], {});\n",
              "        if (!dataTable) return;\n",
              "\n",
              "        const docLinkHtml = 'Like what you see? Visit the ' +\n",
              "          '<a target=\"_blank\" href=https://colab.research.google.com/notebooks/data_table.ipynb>data table notebook</a>'\n",
              "          + ' to learn more about interactive tables.';\n",
              "        element.innerHTML = '';\n",
              "        dataTable['output_type'] = 'display_data';\n",
              "        await google.colab.output.renderOutput(dataTable, element);\n",
              "        const docLink = document.createElement('div');\n",
              "        docLink.innerHTML = docLinkHtml;\n",
              "        element.appendChild(docLink);\n",
              "      }\n",
              "    </script>\n",
              "  </div>\n",
              "\n",
              "\n",
              "<div id=\"df-3e889ce9-30a4-4602-9634-969138994dcc\">\n",
              "  <button class=\"colab-df-quickchart\" onclick=\"quickchart('df-3e889ce9-30a4-4602-9634-969138994dcc')\"\n",
              "            title=\"Suggest charts\"\n",
              "            style=\"display:none;\">\n",
              "\n",
              "<svg xmlns=\"http://www.w3.org/2000/svg\" height=\"24px\"viewBox=\"0 0 24 24\"\n",
              "     width=\"24px\">\n",
              "    <g>\n",
              "        <path d=\"M19 3H5c-1.1 0-2 .9-2 2v14c0 1.1.9 2 2 2h14c1.1 0 2-.9 2-2V5c0-1.1-.9-2-2-2zM9 17H7v-7h2v7zm4 0h-2V7h2v10zm4 0h-2v-4h2v4z\"/>\n",
              "    </g>\n",
              "</svg>\n",
              "  </button>\n",
              "\n",
              "<style>\n",
              "  .colab-df-quickchart {\n",
              "      --bg-color: #E8F0FE;\n",
              "      --fill-color: #1967D2;\n",
              "      --hover-bg-color: #E2EBFA;\n",
              "      --hover-fill-color: #174EA6;\n",
              "      --disabled-fill-color: #AAA;\n",
              "      --disabled-bg-color: #DDD;\n",
              "  }\n",
              "\n",
              "  [theme=dark] .colab-df-quickchart {\n",
              "      --bg-color: #3B4455;\n",
              "      --fill-color: #D2E3FC;\n",
              "      --hover-bg-color: #434B5C;\n",
              "      --hover-fill-color: #FFFFFF;\n",
              "      --disabled-bg-color: #3B4455;\n",
              "      --disabled-fill-color: #666;\n",
              "  }\n",
              "\n",
              "  .colab-df-quickchart {\n",
              "    background-color: var(--bg-color);\n",
              "    border: none;\n",
              "    border-radius: 50%;\n",
              "    cursor: pointer;\n",
              "    display: none;\n",
              "    fill: var(--fill-color);\n",
              "    height: 32px;\n",
              "    padding: 0;\n",
              "    width: 32px;\n",
              "  }\n",
              "\n",
              "  .colab-df-quickchart:hover {\n",
              "    background-color: var(--hover-bg-color);\n",
              "    box-shadow: 0 1px 2px rgba(60, 64, 67, 0.3), 0 1px 3px 1px rgba(60, 64, 67, 0.15);\n",
              "    fill: var(--button-hover-fill-color);\n",
              "  }\n",
              "\n",
              "  .colab-df-quickchart-complete:disabled,\n",
              "  .colab-df-quickchart-complete:disabled:hover {\n",
              "    background-color: var(--disabled-bg-color);\n",
              "    fill: var(--disabled-fill-color);\n",
              "    box-shadow: none;\n",
              "  }\n",
              "\n",
              "  .colab-df-spinner {\n",
              "    border: 2px solid var(--fill-color);\n",
              "    border-color: transparent;\n",
              "    border-bottom-color: var(--fill-color);\n",
              "    animation:\n",
              "      spin 1s steps(1) infinite;\n",
              "  }\n",
              "\n",
              "  @keyframes spin {\n",
              "    0% {\n",
              "      border-color: transparent;\n",
              "      border-bottom-color: var(--fill-color);\n",
              "      border-left-color: var(--fill-color);\n",
              "    }\n",
              "    20% {\n",
              "      border-color: transparent;\n",
              "      border-left-color: var(--fill-color);\n",
              "      border-top-color: var(--fill-color);\n",
              "    }\n",
              "    30% {\n",
              "      border-color: transparent;\n",
              "      border-left-color: var(--fill-color);\n",
              "      border-top-color: var(--fill-color);\n",
              "      border-right-color: var(--fill-color);\n",
              "    }\n",
              "    40% {\n",
              "      border-color: transparent;\n",
              "      border-right-color: var(--fill-color);\n",
              "      border-top-color: var(--fill-color);\n",
              "    }\n",
              "    60% {\n",
              "      border-color: transparent;\n",
              "      border-right-color: var(--fill-color);\n",
              "    }\n",
              "    80% {\n",
              "      border-color: transparent;\n",
              "      border-right-color: var(--fill-color);\n",
              "      border-bottom-color: var(--fill-color);\n",
              "    }\n",
              "    90% {\n",
              "      border-color: transparent;\n",
              "      border-bottom-color: var(--fill-color);\n",
              "    }\n",
              "  }\n",
              "</style>\n",
              "\n",
              "  <script>\n",
              "    async function quickchart(key) {\n",
              "      const quickchartButtonEl =\n",
              "        document.querySelector('#' + key + ' button');\n",
              "      quickchartButtonEl.disabled = true;  // To prevent multiple clicks.\n",
              "      quickchartButtonEl.classList.add('colab-df-spinner');\n",
              "      try {\n",
              "        const charts = await google.colab.kernel.invokeFunction(\n",
              "            'suggestCharts', [key], {});\n",
              "      } catch (error) {\n",
              "        console.error('Error during call to suggestCharts:', error);\n",
              "      }\n",
              "      quickchartButtonEl.classList.remove('colab-df-spinner');\n",
              "      quickchartButtonEl.classList.add('colab-df-quickchart-complete');\n",
              "    }\n",
              "    (() => {\n",
              "      let quickchartButtonEl =\n",
              "        document.querySelector('#df-3e889ce9-30a4-4602-9634-969138994dcc button');\n",
              "      quickchartButtonEl.style.display =\n",
              "        google.colab.kernel.accessAllowed ? 'block' : 'none';\n",
              "    })();\n",
              "  </script>\n",
              "</div>\n",
              "\n",
              "    </div>\n",
              "  </div>\n"
            ],
            "application/vnd.google.colaboratory.intrinsic+json": {
              "type": "dataframe",
              "summary": "{\n  \"name\": \"data\",\n  \"rows\": 8,\n  \"fields\": [\n    {\n      \"column\": \"lcavol\",\n      \"properties\": {\n        \"dtype\": \"number\",\n        \"std\": 23.661062513866234,\n        \"min\": -2.157304029839061,\n        \"max\": 67.0,\n        \"num_unique_values\": 8,\n        \"samples\": [\n          4.971147871455925e-17,\n          0.12518040394186805,\n          67.0\n        ],\n        \"semantic_type\": \"\",\n        \"description\": \"\"\n      }\n    },\n    {\n      \"column\": \"lweight\",\n      \"properties\": {\n        \"dtype\": \"number\",\n        \"std\": 23.69857659235515,\n        \"min\": -2.645075202852134,\n        \"max\": 67.0,\n        \"num_unique_values\": 8,\n        \"samples\": [\n          9.378898984146846e-16,\n          -0.05798077904949206,\n          67.0\n        ],\n        \"semantic_type\": \"\",\n        \"description\": \"\"\n      }\n    },\n    {\n      \"column\": \"age\",\n      \"properties\": {\n        \"dtype\": \"number\",\n        \"std\": 23.742870666801565,\n        \"min\": -3.1891260910479264,\n        \"max\": 67.0,\n        \"num_unique_values\": 8,\n        \"samples\": [\n          -8.343243177593527e-16,\n          0.03407614302188147,\n          67.0\n        ],\n        \"semantic_type\": \"\",\n        \"description\": \"\"\n      }\n    },\n    {\n      \"column\": \"lbph\",\n      \"properties\": {\n        \"dtype\": \"number\",\n        \"std\": 23.631739399837624,\n        \"min\": -1.0034716495910156,\n        \"max\": 67.0,\n        \"num_unique_values\": 7,\n        \"samples\": [\n          67.0,\n          6.628197161941233e-18,\n          1.0160908116518763\n        ],\n        \"semantic_type\": \"\",\n        \"description\": \"\"\n      }\n    },\n    {\n      \"column\": \"svi\",\n      \"properties\": {\n        \"dtype\": \"number\",\n        \"std\": 23.668445596596804,\n        \"min\": -0.5370861555295747,\n        \"max\": 67.0,\n        \"num_unique_values\": 5,\n        \"samples\": [\n          3.9769182971647396e-17,\n          1.8618986725025257,\n          1.007547276881594\n        ],\n        \"semantic_type\": \"\",\n        \"description\": \"\"\n      }\n    },\n    {\n      \"column\": \"lcp\",\n      \"properties\": {\n        \"dtype\": \"number\",\n        \"std\": 23.616998449436018,\n        \"min\": -0.8430839859050882,\n        \"max\": 67.0,\n        \"num_unique_values\": 7,\n        \"samples\": [\n          67.0,\n          -4.3083281552618016e-17,\n          0.8696291850328105\n        ],\n        \"semantic_type\": \"\",\n        \"description\": \"\"\n      }\n    },\n    {\n      \"column\": \"pgg45\",\n      \"properties\": {\n        \"dtype\": \"number\",\n        \"std\": 23.606653347623997,\n        \"min\": -0.9032532370845316,\n        \"max\": 67.0,\n        \"num_unique_values\": 7,\n        \"samples\": [\n          67.0,\n          -3.314098580970616e-17,\n          0.8160071857752302\n        ],\n        \"semantic_type\": \"\",\n        \"description\": \"\"\n      }\n    },\n    {\n      \"column\": \"gleason_6\",\n      \"properties\": {\n        \"dtype\": \"number\",\n        \"std\": 23.547268148811817,\n        \"min\": 0.0,\n        \"max\": 67.0,\n        \"num_unique_values\": 5,\n        \"samples\": [\n          0.373134328358209,\n          1.0,\n          0.4872875106609372\n        ],\n        \"semantic_type\": \"\",\n        \"description\": \"\"\n      }\n    },\n    {\n      \"column\": \"gleason_7\",\n      \"properties\": {\n        \"dtype\": \"number\",\n        \"std\": 23.486370604136546,\n        \"min\": 0.0,\n        \"max\": 67.0,\n        \"num_unique_values\": 5,\n        \"samples\": [\n          0.5671641791044776,\n          1.0,\n          0.4992078754785888\n        ],\n        \"semantic_type\": \"\",\n        \"description\": \"\"\n      }\n    },\n    {\n      \"column\": \"gleason_8\",\n      \"properties\": {\n        \"dtype\": \"number\",\n        \"std\": 23.633155242065374,\n        \"min\": 0.0,\n        \"max\": 67.0,\n        \"num_unique_values\": 5,\n        \"samples\": [\n          0.014925373134328358,\n          1.0,\n          0.1221694443563052\n        ],\n        \"semantic_type\": \"\",\n        \"description\": \"\"\n      }\n    },\n    {\n      \"column\": \"gleason_9\",\n      \"properties\": {\n        \"dtype\": \"number\",\n        \"std\": 23.62726596906181,\n        \"min\": 0.0,\n        \"max\": 67.0,\n        \"num_unique_values\": 5,\n        \"samples\": [\n          0.04477611940298507,\n          1.0,\n          0.2083729044282493\n        ],\n        \"semantic_type\": \"\",\n        \"description\": \"\"\n      }\n    },\n    {\n      \"column\": \"lpsa\",\n      \"properties\": {\n        \"dtype\": \"number\",\n        \"std\": 23.66300984182364,\n        \"min\": -2.4050827482817083,\n        \"max\": 67.0,\n        \"num_unique_values\": 8,\n        \"samples\": [\n          1.8558952053435452e-16,\n          0.09713584960664716,\n          67.0\n        ],\n        \"semantic_type\": \"\",\n        \"description\": \"\"\n      }\n    }\n  ]\n}"
            }
          },
          "metadata": {},
          "execution_count": 107
        }
      ]
    },
    {
      "cell_type": "code",
      "source": [
        "f = data.hist(bins=30, figsize=(16, 12))"
      ],
      "metadata": {
        "colab": {
          "base_uri": "https://localhost:8080/",
          "height": 861
        },
        "id": "-eq4oNCvwWpt",
        "outputId": "ca4c8644-98a6-487c-b80f-ce66ad74f11f"
      },
      "execution_count": 110,
      "outputs": [
        {
          "output_type": "display_data",
          "data": {
            "text/plain": [
              "<Figure size 1600x1200 with 12 Axes>"
            ],
            "image/png": "[encoded data removed]"
          },
          "metadata": {}
        }
      ]
    },
    {
      "cell_type": "markdown",
      "source": [
        "Observaciones:\n",
        "\n",
        "*   svi es binaria\n",
        "*   gleason parece discreta\n"
      ],
      "metadata": {
        "id": "LeFKNzImyhRT"
      }
    },
    {
      "cell_type": "code",
      "source": [
        "f = data.boxplot(figsize=(12, 8))"
      ],
      "metadata": {
        "colab": {
          "base_uri": "https://localhost:8080/",
          "height": 677
        },
        "id": "NbTvl7Nwwmlg",
        "outputId": "865dee85-3205-410d-a4dc-41f101c8e931"
      },
      "execution_count": 111,
      "outputs": [
        {
          "output_type": "display_data",
          "data": {
            "text/plain": [
              "<Figure size 1200x800 with 1 Axes>"
            ],
            "image/png": "[encoded data removed]"
          },
          "metadata": {}
        }
      ]
    },
    {
      "cell_type": "markdown",
      "source": [
        "# Pre-processing"
      ],
      "metadata": {
        "id": "7HNYxFA5xQvZ"
      }
    },
    {
      "cell_type": "code",
      "source": [
        "data = pd.get_dummies(data_raw, prefix=['gleason'], columns=['gleason'], dtype=int)\n",
        "columns_x = data.columns.tolist()\n",
        "columns_x.remove(\"train\")\n",
        "columns_x.remove(\"lpsa\")\n",
        "columns_y = ['lpsa']\n",
        "print(columns_x,columns_y)\n",
        "\n",
        "training_data = data[data['train']=='T'].drop(columns=['train'])\n",
        "test_data = data[data['train']!='T'].drop(columns=['train'])\n",
        "\n",
        "print(\"Training N:\", len(training_data), \"from NTotal:\",len(data))\n",
        "print(\"Test N:\",len(test_data),\"from NTotal:\",len(data))"
      ],
      "metadata": {
        "colab": {
          "base_uri": "https://localhost:8080/"
        },
        "id": "v4FST0jkxP7m",
        "outputId": "cfc58475-8b28-430e-8583-1dfecab8afab"
      },
      "execution_count": 85,
      "outputs": [
        {
          "output_type": "stream",
          "name": "stdout",
          "text": [
            "['lcavol', 'lweight', 'age', 'lbph', 'svi', 'lcp', 'pgg45', 'gleason_6', 'gleason_7', 'gleason_8', 'gleason_9'] ['lpsa']\n",
            "Training N: 67 from NTotal: 97\n",
            "Test N: 30 from NTotal: 97\n"
          ]
        }
      ]
    },
    {
      "cell_type": "code",
      "source": [
        "print(training_data.head(5))"
      ],
      "metadata": {
        "colab": {
          "base_uri": "https://localhost:8080/"
        },
        "id": "rn5mNsRZzbNR",
        "outputId": "2b3edd5a-03f6-4fa0-e587-b4cb67dbde6c"
      },
      "execution_count": 64,
      "outputs": [
        {
          "output_type": "stream",
          "name": "stdout",
          "text": [
            "     lcavol   lweight  age      lbph  svi       lcp  pgg45      lpsa  \\\n",
            "1 -0.579818  2.769459   50 -1.386294    0 -1.386294      0 -0.430783   \n",
            "2 -0.994252  3.319626   58 -1.386294    0 -1.386294      0 -0.162519   \n",
            "3 -0.510826  2.691243   74 -1.386294    0 -1.386294     20 -0.162519   \n",
            "4 -1.203973  3.282789   58 -1.386294    0 -1.386294      0 -0.162519   \n",
            "5  0.751416  3.432373   62 -1.386294    0 -1.386294      0  0.371564   \n",
            "\n",
            "   gleason_6  gleason_7  gleason_8  gleason_9  \n",
            "1          1          0          0          0  \n",
            "2          1          0          0          0  \n",
            "3          0          1          0          0  \n",
            "4          1          0          0          0  \n",
            "5          1          0          0          0  \n"
          ]
        }
      ]
    },
    {
      "cell_type": "code",
      "source": [
        "from sklearn import preprocessing\n",
        "\n",
        "cont_predictors = ['lcavol', 'lweight', 'age', 'lbph', 'svi', 'lcp', 'pgg45']\n",
        "X_train = training_data.loc[:, training_data.columns != 'lpsa']\n",
        "y_train = np.expand_dims(training_data['lpsa'].values,axis=1)\n",
        "\n",
        "X_test = test_data.loc[:, test_data.columns != 'lpsa']\n",
        "y_test = np.expand_dims(test_data['lpsa'].values,axis=1)"
      ],
      "metadata": {
        "id": "XO0vIYoYzWUT"
      },
      "execution_count": 102,
      "outputs": []
    },
    {
      "cell_type": "markdown",
      "source": [
        "## Scaling"
      ],
      "metadata": {
        "id": "4he9p4Zh6uq5"
      }
    },
    {
      "cell_type": "code",
      "source": [
        "x_scaler = preprocessing.StandardScaler().fit(X_train[cont_predictors])\n",
        "y_scaler = preprocessing.StandardScaler().fit(y_train)\n",
        "\n",
        "X_train[cont_predictors] = x_scaler.transform(X_train[cont_predictors])\n",
        "X_test[cont_predictors] = x_scaler.transform(X_test[cont_predictors])\n",
        "\n",
        "y_train = y_scaler.transform(y_train)\n",
        "y_test = y_scaler.transform(y_test)"
      ],
      "metadata": {
        "id": "nxK-cUCj0s4P"
      },
      "execution_count": 103,
      "outputs": []
    },
    {
      "cell_type": "markdown",
      "source": [],
      "metadata": {
        "id": "qJJFq5dHxQaR"
      }
    }
  ]
}